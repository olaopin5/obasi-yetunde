{
  "nbformat": 4,
  "nbformat_minor": 0,
  "metadata": {
    "colab": {
      "provenance": []
    },
    "kernelspec": {
      "name": "python3",
      "display_name": "Python 3"
    },
    "language_info": {
      "name": "python"
    }
  },
  "cells": [
    {
      "cell_type": "code",
      "execution_count": 6,
      "metadata": {
        "colab": {
          "base_uri": "https://localhost:8080/"
        },
        "id": "0275UBQyCYzP",
        "outputId": "93d55fa0-c30c-436d-8cba-fb1f293458d4"
      },
      "outputs": [
        {
          "output_type": "stream",
          "name": "stdout",
          "text": [
            "True Alice is 1.65 tall and she is 16 years old\n"
          ]
        }
      ],
      "source": [
        "##Creating Variables\n",
        "name = \"Alice\"\n",
        "age = 16\n",
        "height = 1.65\n",
        "is_student = True\n",
        "print(\"{} {} is {} tall and she is {} years old\".format(is_student, name, height,age ))"
      ]
    },
    {
      "cell_type": "markdown",
      "source": [
        "HOMEWORK1"
      ],
      "metadata": {
        "id": "xmL9CPDeK-Vf"
      }
    },
    {
      "cell_type": "code",
      "source": [
        "Name = \"Luke\"\n",
        "Age = 30\n",
        "print(\"Name:\", Name)\n",
        "print(\"Age:\", Age)"
      ],
      "metadata": {
        "colab": {
          "base_uri": "https://localhost:8080/"
        },
        "id": "LzdpolYgLBkX",
        "outputId": "32c9e9df-09c9-4cfa-d255-292fd69dd644"
      },
      "execution_count": 8,
      "outputs": [
        {
          "output_type": "stream",
          "name": "stdout",
          "text": [
            "Name: Luke\n",
            "Age: 30\n"
          ]
        }
      ]
    },
    {
      "cell_type": "markdown",
      "source": [
        "HOMEWORK2"
      ],
      "metadata": {
        "id": "5f_um5EpLZnw"
      }
    },
    {
      "cell_type": "code",
      "source": [
        "##Area of a Triangle\n",
        "Base = 5\n",
        "Height = 7\n",
        "Area = 1/2 * Base * Height\n",
        "print(Area)"
      ],
      "metadata": {
        "colab": {
          "base_uri": "https://localhost:8080/"
        },
        "id": "wc0ZYcuFLcmR",
        "outputId": "4d08ff10-ec8c-4b8c-c53d-971a6d51ab62"
      },
      "execution_count": 10,
      "outputs": [
        {
          "output_type": "stream",
          "name": "stdout",
          "text": [
            "17.5\n"
          ]
        }
      ]
    }
  ]
}