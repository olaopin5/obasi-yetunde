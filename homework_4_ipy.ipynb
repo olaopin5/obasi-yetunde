{
  "nbformat": 4,
  "nbformat_minor": 0,
  "metadata": {
    "colab": {
      "provenance": [],
      "mount_file_id": "1XihYKjsHsV7zHcaoa4TdkLkTGGt7gGfv",
      "authorship_tag": "ABX9TyM7EvEAJGR1xU95uX+7qGC/",
      "include_colab_link": true
    },
    "kernelspec": {
      "name": "python3",
      "display_name": "Python 3"
    },
    "language_info": {
      "name": "python"
    }
  },
  "cells": [
    {
      "cell_type": "markdown",
      "metadata": {
        "id": "view-in-github",
        "colab_type": "text"
      },
      "source": [
        "<a href=\"https://colab.research.google.com/github/olaopin5/obasi-yetunde/blob/main/homework_4_ipy.ipynb\" target=\"_parent\"><img src=\"https://colab.research.google.com/assets/colab-badge.svg\" alt=\"Open In Colab\"/></a>"
      ]
    },
    {
      "cell_type": "code",
      "execution_count": null,
      "metadata": {
        "id": "YLoUwkSyVMgG"
      },
      "outputs": [],
      "source": []
    },
    {
      "cell_type": "markdown",
      "source": [
        "# New section"
      ],
      "metadata": {
        "id": "-V5lA5G3Z1ft"
      }
    },
    {
      "cell_type": "markdown",
      "source": [
        "Homwork_4_1"
      ],
      "metadata": {
        "id": "tW2KGLPNb1K7"
      }
    },
    {
      "cell_type": "code",
      "source": [
        "import numpy as np\n",
        "arr_2d = np.array([[1,2,3,4], [5,6,7,8], [9,10,11,12]])\n",
        "print(arr_2d)\n",
        "print(arr_2d[2,3])\n",
        "print(arr_2d[1])\n",
        "print(arr_2d[:,0])\n",
        "## Reshape\n",
        "reshaped_arr = arr_2d.reshape(4,3)\n",
        "print(reshaped_arr)"
      ],
      "metadata": {
        "colab": {
          "base_uri": "https://localhost:8080/"
        },
        "id": "TUQ3f054VUIX",
        "outputId": "1d5d886a-7736-420f-c488-3335182a4ee6"
      },
      "execution_count": null,
      "outputs": [
        {
          "output_type": "stream",
          "name": "stdout",
          "text": [
            "[[ 1  2  3  4]\n",
            " [ 5  6  7  8]\n",
            " [ 9 10 11 12]]\n",
            "12\n",
            "[5 6 7 8]\n",
            "[1 5 9]\n",
            "[[ 1  2  3]\n",
            " [ 4  5  6]\n",
            " [ 7  8  9]\n",
            " [10 11 12]]\n"
          ]
        }
      ]
    },
    {
      "cell_type": "markdown",
      "source": [
        "Homework_4_2"
      ],
      "metadata": {
        "id": "mP0Xffanb0dz"
      }
    },
    {
      "cell_type": "code",
      "source": [
        "import numpy as np\n",
        "arr_1 = np.array([1,2,3]) # first array\n",
        "arr_2 = np.array([2,4,6]) # second array\n",
        "print(arr_1 + arr_2) # Addition of the two array\n",
        "print(arr_1 * arr_2) # multiplication of the two array\n",
        "print(np.sum(arr_1)) # sum of the first array\n",
        "print(np.sum(arr_2)) # sum of the second array\n",
        "print(np.mean(arr_1)) # mean of the first array\n",
        "print(np.mean(arr_2)) # mean of the second array"
      ],
      "metadata": {
        "colab": {
          "base_uri": "https://localhost:8080/"
        },
        "id": "Dvq44rqCcXeS",
        "outputId": "ab6a5274-0e8d-49b0-b474-9a8342c01dce"
      },
      "execution_count": null,
      "outputs": [
        {
          "output_type": "stream",
          "name": "stdout",
          "text": [
            "[3 6 9]\n",
            "[ 2  8 18]\n",
            "6\n",
            "12\n",
            "2.0\n",
            "4.0\n"
          ]
        }
      ]
    },
    {
      "cell_type": "markdown",
      "source": [
        "Homework_4_3"
      ],
      "metadata": {
        "id": "z6YxQ2FPeFk5"
      }
    },
    {
      "cell_type": "code",
      "source": [
        "import numpy as np\n",
        "data = np.loadtxt('/content/drive/MyDrive/Colab Notebooks/data.txt', delimiter=',')\n",
        "print(data)\n",
        "print(np.sum(data, axis=0))\n",
        "transposed_data = np.transpose(data)\n",
        "print(np.transpose)\n",
        "New_file = 'transposed_data.csv'\n",
        "print(New_file)\n"
      ],
      "metadata": {
        "colab": {
          "base_uri": "https://localhost:8080/"
        },
        "id": "J4aKjOhnhPDA",
        "outputId": "f075ebbb-3457-439e-e0de-4a744532d7b6"
      },
      "execution_count": 16,
      "outputs": [
        {
          "output_type": "stream",
          "name": "stdout",
          "text": [
            "[[1. 2. 4.]\n",
            " [5. 8. 9.]\n",
            " [5. 4. 5.]]\n",
            "[11. 14. 18.]\n",
            "<function transpose at 0x7a48182e65f0>\n",
            "transposed_data.csv\n"
          ]
        }
      ]
    },
    {
      "cell_type": "markdown",
      "source": [
        "Homework_4_4"
      ],
      "metadata": {
        "id": "HXtQGR9C1q9f"
      }
    },
    {
      "cell_type": "code",
      "source": [
        "import numpy as np\n",
        "arr_2d = np.array([[1,2,3],[4,np.nan,6],[7,8,np.nan],[np.nan,4,6]])\n",
        "print(arr_2d)\n",
        "cleaned_arr = np.delete(arr_2d, np.where(np.isnan(arr_2d))[0], axis=0)\n",
        "print(cleaned_arr)"
      ],
      "metadata": {
        "colab": {
          "base_uri": "https://localhost:8080/"
        },
        "id": "-6gf5T4M1uIq",
        "outputId": "5067d52e-a351-4714-955e-ac027e0c42e0"
      },
      "execution_count": null,
      "outputs": [
        {
          "output_type": "stream",
          "name": "stdout",
          "text": [
            "[[ 1.  2.  3.]\n",
            " [ 4. nan  6.]\n",
            " [ 7.  8. nan]\n",
            " [nan  4.  6.]]\n",
            "[[1. 2. 3.]]\n"
          ]
        }
      ]
    },
    {
      "cell_type": "markdown",
      "source": [
        "Homework_4_5"
      ],
      "metadata": {
        "id": "jZiyoIyk4JCP"
      }
    },
    {
      "cell_type": "code",
      "source": [
        "import numpy as np\n",
        "from scipy import stats\n",
        "arr = ([4,6,8,10])\n",
        "print(arr)\n",
        "scaled_arr = (arr - np.min(arr)) / (np.max(arr) - np.min(arr))\n",
        "print(scaled_arr)\n",
        "arr_scaled = stats.zscore(arr)\n",
        "print(arr_scaled)"
      ],
      "metadata": {
        "colab": {
          "base_uri": "https://localhost:8080/"
        },
        "id": "CzZs8W-74OuB",
        "outputId": "f1fe1a6c-8383-4956-cbdd-fd170784337f"
      },
      "execution_count": 18,
      "outputs": [
        {
          "output_type": "stream",
          "name": "stdout",
          "text": [
            "[4, 6, 8, 10]\n",
            "[0.         0.33333333 0.66666667 1.        ]\n",
            "[-1.34164079 -0.4472136   0.4472136   1.34164079]\n"
          ]
        }
      ]
    }
  ]
}