{
  "nbformat": 4,
  "nbformat_minor": 0,
  "metadata": {
    "colab": {
      "provenance": [],
      "authorship_tag": "ABX9TyOXvCXpdgicUmjdZZVoW80Y",
      "include_colab_link": true
    },
    "kernelspec": {
      "name": "python3",
      "display_name": "Python 3"
    },
    "language_info": {
      "name": "python"
    }
  },
  "cells": [
    {
      "cell_type": "markdown",
      "metadata": {
        "id": "view-in-github",
        "colab_type": "text"
      },
      "source": [
        "<a href=\"https://colab.research.google.com/github/olaopin5/obasi-yetunde/blob/main/Untitled6.ipynb\" target=\"_parent\"><img src=\"https://colab.research.google.com/assets/colab-badge.svg\" alt=\"Open In Colab\"/></a>"
      ]
    },
    {
      "cell_type": "code",
      "source": [],
      "metadata": {
        "id": "6fG1dOn8QxAc"
      },
      "execution_count": null,
      "outputs": []
    },
    {
      "cell_type": "markdown",
      "source": [
        "HOMEWORK2"
      ],
      "metadata": {
        "id": "afOcAImlVXJu"
      }
    },
    {
      "cell_type": "code",
      "source": [
        "y = 5\n",
        "if y < 5:\n",
        "  print(\"Even number:\", y)\n",
        "elif y > 5:\n",
        "  print(\"fraction:\", y)\n",
        "else:\n",
        "  print(\"odd number:\", y)"
      ],
      "metadata": {
        "colab": {
          "base_uri": "https://localhost:8080/"
        },
        "id": "O03evSY3VaeB",
        "outputId": "14733c4c-da2a-44f0-881c-386c52e94350"
      },
      "execution_count": 18,
      "outputs": [
        {
          "output_type": "stream",
          "name": "stdout",
          "text": [
            "odd number: 5\n"
          ]
        }
      ]
    },
    {
      "cell_type": "markdown",
      "source": [
        "2"
      ],
      "metadata": {
        "id": "4rx0-bKZWbQ5"
      }
    },
    {
      "cell_type": "code",
      "source": [
        "number = 6\n",
        "for i in range(1, number+1):\n",
        "  number +=i\n",
        "  print(\"Sum:\", number)"
      ],
      "metadata": {
        "colab": {
          "base_uri": "https://localhost:8080/"
        },
        "id": "f320VPVaZrmR",
        "outputId": "e9cc4818-9c23-41a0-98f2-aa323a247360"
      },
      "execution_count": 30,
      "outputs": [
        {
          "output_type": "stream",
          "name": "stdout",
          "text": [
            "Sum: 7\n",
            "Sum: 9\n",
            "Sum: 12\n",
            "Sum: 16\n",
            "Sum: 21\n",
            "Sum: 27\n"
          ]
        }
      ]
    }
  ]
}